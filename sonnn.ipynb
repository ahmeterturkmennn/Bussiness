{
 "cells": [
  {
   "cell_type": "markdown",
   "id": "91708dec",
   "metadata": {},
   "source": [
    "# Öznitelik Seçim Algoritmaları Kullanılarak Otizmde Etken Genin Belirlenmesi"
   ]
  },
  {
   "cell_type": "markdown",
   "id": "6cd5f087",
   "metadata": {},
   "source": [
    "NOT: Datasetinin tekrar tekrar çağırılmasındaki sebep datanın kullanıldıkça değişikliğe uğramasıdır."
   ]
  },
  {
   "cell_type": "code",
   "execution_count": 1,
   "id": "06182d80",
   "metadata": {},
   "outputs": [
    {
     "name": "stderr",
     "output_type": "stream",
     "text": [
      "C:\\Users\\90551\\AppData\\Local\\Temp\\ipykernel_14236\\3604274112.py:2: DtypeWarning: Columns (1,2,3,4,5,6,7,8,9,10,11,12,13,14,15,16,17,18,19,20,21,22,23,24,25,26,27,28,29,30,31,32,33,34,35,36,37,38,39,40,41,42,43,44,45,46,47,48,49,50,51,52,53,54,55,56,57,58,59,60,61,62,63,64,65,66,67,68,69,70,71,72,73,74,75,76,77,78,79,80,81,82,83,84,85,86,87,88,89,90,91,92,93,94,95,96,97,98,99,100,101,102,103,104,105,106,107,108,109,110,111,112,113,114,115,116,117,118,119,120,121,122,123,124,125,126,127,128,129,130,131,132,133,134,135,136,137,138,139,140,141,142,143,144,145,146) have mixed types. Specify dtype option on import or set low_memory=False.\n",
      "  df = pd.read_csv('assignment.txt', sep=\"\\t\", header=None)\n"
     ]
    }
   ],
   "source": [
    "import pandas as pd\n",
    "df = pd.read_csv('assignment.txt', sep=\"\\t\", header=None)\n",
    "df.columns=list(df.loc[0,:])\n",
    "from sklearn.model_selection import train_test_split\n",
    "cols=list(df.columns)\n",
    "df=df.drop(0)\n",
    "df=df.iloc[:,1:].astype(float)\n",
    "X = df.iloc[:, :-1]\n",
    "y = df.iloc[:,-1]\n",
    "X_train, X_test , y_train, y_test= train_test_split(X, y,\n",
    "                                         test_size=0.5, random_state=1)\n"
   ]
  },
  {
   "cell_type": "code",
   "execution_count": 2,
   "id": "5c77e8e2",
   "metadata": {},
   "outputs": [
    {
     "data": {
      "image/png": "[encoded data removed]",
      "text/plain": [
       "<Figure size 432x288 with 1 Axes>"
      ]
     },
     "metadata": {
      "needs_background": "light"
     },
     "output_type": "display_data"
    }
   ],
   "source": [
    "from sklearn.cluster import KMeans\n",
    "kmeans=KMeans(n_clusters=2)\n",
    "kmeans.fit(df)\n",
    "import numpy as np\n",
    "y_km=kmeans.fit_predict(df)\n",
    "import matplotlib.pyplot as plt\n",
    "df=np.array(df)\n",
    "plt.scatter(df[y_km ==0,0], df[y_km == 0,1], s=20, c='red')\n",
    "plt.scatter(df[y_km ==1,0], df[y_km == 1,1], s=20, c='black')\n",
    "plt.show()"
   ]
  },
  {
   "cell_type": "code",
   "execution_count": 3,
   "id": "babf4bd7",
   "metadata": {},
   "outputs": [],
   "source": [
    "indice_0=np.where(df[y_km==0,0])[0]\n",
    "indice_1=np.where(df[y_km==1,0])[0]"
   ]
  },
  {
   "cell_type": "code",
   "execution_count": 4,
   "id": "1f1cabc5",
   "metadata": {},
   "outputs": [
    {
     "name": "stderr",
     "output_type": "stream",
     "text": [
      "C:\\Users\\90551\\AppData\\Local\\Temp\\ipykernel_14236\\3347518579.py:2: DtypeWarning: Columns (1,2,3,4,5,6,7,8,9,10,11,12,13,14,15,16,17,18,19,20,21,22,23,24,25,26,27,28,29,30,31,32,33,34,35,36,37,38,39,40,41,42,43,44,45,46,47,48,49,50,51,52,53,54,55,56,57,58,59,60,61,62,63,64,65,66,67,68,69,70,71,72,73,74,75,76,77,78,79,80,81,82,83,84,85,86,87,88,89,90,91,92,93,94,95,96,97,98,99,100,101,102,103,104,105,106,107,108,109,110,111,112,113,114,115,116,117,118,119,120,121,122,123,124,125,126,127,128,129,130,131,132,133,134,135,136,137,138,139,140,141,142,143,144,145,146) have mixed types. Specify dtype option on import or set low_memory=False.\n",
      "  df = pd.read_csv('assignment.txt', sep=\"\\t\", header=None)\n"
     ]
    }
   ],
   "source": [
    "import pandas as pd\n",
    "df = pd.read_csv('assignment.txt', sep=\"\\t\", header=None)\n",
    "df.columns=list(df.loc[0,:])\n",
    "\n",
    "cols=list(df.columns)\n",
    "df=df.drop(0)\n",
    "df=df.iloc[:,1:].astype(float)\n",
    "\n",
    "df[\"autism\"]=pd.DataFrame(y_km)\n"
   ]
  },
  {
   "cell_type": "markdown",
   "id": "79d2f617",
   "metadata": {},
   "source": [
    "# Öznitelik Seçim Algoritmalarının Uygulanması\n"
   ]
  },
  {
   "cell_type": "markdown",
   "id": "042d540a",
   "metadata": {},
   "source": [
    "## Yüzde seçme algoritması ile etken genimizi bulmaya çalışalım."
   ]
  },
  {
   "cell_type": "code",
   "execution_count": 5,
   "id": "389309fa",
   "metadata": {},
   "outputs": [],
   "source": [
    "numpy_array = df.to_numpy()\n",
    "np.savetxt(r'C:\\Users\\90551/autism.txt', numpy_array, fmt = \"%f\")"
   ]
  },
  {
   "cell_type": "code",
   "execution_count": 12,
   "id": "802ac044",
   "metadata": {},
   "outputs": [],
   "source": [
    "df_=df\n",
    "def clean_dataset(df):\n",
    "    assert isinstance(df, pd.DataFrame), \"df needs to be a pd.DataFrame\"\n",
    "    df.dropna(inplace=True)\n",
    "    indices_to_keep = ~df.isin([np.nan, np.inf, -np.inf]).any(1)\n",
    "    return df[indices_to_keep].astype(np.float64)\n",
    "clean_dataset(df_)\n",
    "\n",
    "\n",
    "\n",
    "\n",
    "import pandas as pd\n",
    "\n",
    "X = df_.iloc[:, :-1]\n",
    "y = df_.iloc[:,-1]\n",
    "\n",
    "from sklearn.feature_selection import SelectPercentile,chi2\n",
    "X_new=SelectPercentile(chi2, percentile=4).fit_transform(X, y)"
   ]
  },
  {
   "cell_type": "code",
   "execution_count": 13,
   "id": "0d6e39df",
   "metadata": {},
   "outputs": [
    {
     "data": {
      "text/plain": [
       "array([[ 140.5225645 ,  210.2651583 ,  176.8352405 ,  173.9045658 ,\n",
       "         165.27996   ,  133.7481383 ],\n",
       "       [ 157.8652693 ,  101.7213709 ,  129.1890515 ,  130.9858355 ,\n",
       "         164.8333093 ,  166.4390328 ],\n",
       "       [ 639.5981696 ,  649.1778655 ,  751.9479544 , 1083.302169  ,\n",
       "         680.7012742 , 1048.782643  ],\n",
       "       ...,\n",
       "       [  31.56369065,   15.05911414,   17.35214369,   14.83785868,\n",
       "          18.78028433,   16.7591259 ],\n",
       "       [  44.74020619,   45.30370074,   34.89632001,   39.7973648 ,\n",
       "          38.86417537,   39.0527977 ],\n",
       "       [  87.99624153,  110.0100105 ,   92.51773234,   91.27292116,\n",
       "          95.97674629,   87.36466569]])"
      ]
     },
     "execution_count": 13,
     "metadata": {},
     "output_type": "execute_result"
    }
   ],
   "source": [
    "X_new"
   ]
  },
  {
   "cell_type": "markdown",
   "id": "06535b82",
   "metadata": {},
   "source": [
    "Eğer datamızdan bakarsak bu eleme yüzdesine giren sütunun \"GSM627193\",  sütunları olduğunu görürüz."
   ]
  },
  {
   "cell_type": "markdown",
   "id": "81aed22b",
   "metadata": {},
   "source": [
    "## Chi-square uygulamasını deneyelim"
   ]
  },
  {
   "cell_type": "code",
   "execution_count": 16,
   "id": "96cc3277",
   "metadata": {},
   "outputs": [],
   "source": [
    "from sklearn.feature_selection import SelectKBest, chi2\n",
    "chi2_selector = SelectKBest(chi2, k=6)\n",
    "X_kbest = chi2_selector.fit_transform(X, y)"
   ]
  },
  {
   "cell_type": "code",
   "execution_count": 17,
   "id": "951ed5f8",
   "metadata": {},
   "outputs": [
    {
     "data": {
      "text/plain": [
       "array([[ 140.5225645 ,  210.2651583 ,  176.8352405 ,  173.9045658 ,\n",
       "         165.27996   ,  133.7481383 ],\n",
       "       [ 157.8652693 ,  101.7213709 ,  129.1890515 ,  130.9858355 ,\n",
       "         164.8333093 ,  166.4390328 ],\n",
       "       [ 639.5981696 ,  649.1778655 ,  751.9479544 , 1083.302169  ,\n",
       "         680.7012742 , 1048.782643  ],\n",
       "       ...,\n",
       "       [  31.56369065,   15.05911414,   17.35214369,   14.83785868,\n",
       "          18.78028433,   16.7591259 ],\n",
       "       [  44.74020619,   45.30370074,   34.89632001,   39.7973648 ,\n",
       "          38.86417537,   39.0527977 ],\n",
       "       [  87.99624153,  110.0100105 ,   92.51773234,   91.27292116,\n",
       "          95.97674629,   87.36466569]])"
      ]
     },
     "execution_count": 17,
     "metadata": {},
     "output_type": "execute_result"
    }
   ],
   "source": [
    "X_kbest"
   ]
  },
  {
   "cell_type": "markdown",
   "id": "931600fb",
   "metadata": {},
   "source": [
    "Görüldüğü gibi bu algoritma da aynı sonucu verdi. Şu an için denediğimiz iki algoritma da etken genin \"GSM627193\" olduğunu söylüyor."
   ]
  },
  {
   "cell_type": "markdown",
   "id": "df69f7d4",
   "metadata": {},
   "source": [
    "## Anova F değeri yardımı ile Öznitelik Seçimi"
   ]
  },
  {
   "cell_type": "code",
   "execution_count": 18,
   "id": "b571f4d3",
   "metadata": {},
   "outputs": [
    {
     "data": {
      "text/plain": [
       "array([[ 156.8801489 ,  176.8352405 ,  173.9045658 ,  133.7481383 ,\n",
       "         129.63343   ],\n",
       "       [ 106.7954965 ,  129.1890515 ,  130.9858355 ,  166.4390328 ,\n",
       "         155.0053284 ],\n",
       "       [ 528.4873027 ,  751.9479544 , 1083.302169  , 1048.782643  ,\n",
       "         980.4036194 ],\n",
       "       ...,\n",
       "       [  23.29623647,   17.35214369,   14.83785868,   16.7591259 ,\n",
       "          29.18760642],\n",
       "       [  49.20690936,   34.89632001,   39.7973648 ,   39.0527977 ,\n",
       "          43.58325372],\n",
       "       [  93.12644493,   92.51773234,   91.27292116,   87.36466569,\n",
       "         101.5140073 ]])"
      ]
     },
     "execution_count": 18,
     "metadata": {},
     "output_type": "execute_result"
    }
   ],
   "source": [
    "from sklearn.feature_selection import f_classif\n",
    "fvalue_selector = SelectKBest(f_classif, k=5)\n",
    "\n",
    "# Apply the SelectKBest object to the features and target\n",
    "X_kbest = fvalue_selector.fit_transform(X, y)\n",
    "X_kbest"
   ]
  },
  {
   "cell_type": "markdown",
   "id": "8447c33a",
   "metadata": {},
   "source": [
    "Görüldüğü gibi üçüncü algoritma da aynı geni etken gen olarak belirledi. İşimizi sağlama alma amacıyla bir kaç algoritma üzerinde daha çalışalım."
   ]
  },
  {
   "cell_type": "markdown",
   "id": "2afb8edd",
   "metadata": {},
   "source": [
    "## Lasso Regression"
   ]
  },
  {
   "cell_type": "code",
   "execution_count": 19,
   "id": "cbe73375",
   "metadata": {},
   "outputs": [],
   "source": [
    "from sklearn.model_selection import train_test_split\n",
    "from sklearn.linear_model import Lasso\n",
    "from sklearn.feature_selection import SelectFromModel\n",
    "from sklearn.preprocessing import StandardScaler\n"
   ]
  },
  {
   "cell_type": "code",
   "execution_count": 20,
   "id": "2541b73e",
   "metadata": {},
   "outputs": [
    {
     "data": {
      "text/plain": [
       "((38228, 146), (16384, 146))"
      ]
     },
     "execution_count": 20,
     "metadata": {},
     "output_type": "execute_result"
    }
   ],
   "source": [
    "X_train, X_test, y_train , y_test = train_test_split(\n",
    "    X,y,\n",
    "    test_size=0.3,\n",
    "    random_state=0)\n",
    "\n",
    "X_train.shape, X_test.shape"
   ]
  },
  {
   "cell_type": "code",
   "execution_count": 33,
   "id": "a62c6eb5",
   "metadata": {},
   "outputs": [
    {
     "name": "stdout",
     "output_type": "stream",
     "text": [
      "Toplam Öznitelik: 146\n",
      "Seçilen Öznitelik: Index(['GSM627112', 'GSM627123', 'GSM627130', 'GSM627147', 'GSM627159',\n",
      "       'GSM627181', 'GSM627188', 'GSM627193'],\n",
      "      dtype='object')\n"
     ]
    }
   ],
   "source": [
    "scaler = StandardScaler()\n",
    "scaler.fit(X_train.fillna(0))\n",
    "sel_ = SelectFromModel(Lasso(alpha=0.000353))\n",
    "sel_.fit(scaler.transform(X_train.fillna(0)), y_train)\n",
    "selected_feat = X_train.columns[(sel_.get_support())]\n",
    "\n",
    "print('Toplam Öznitelik: {}'.format((X_train.shape[1])))\n",
    "print('Seçilen Öznitelik: {}'.format(selected_feat))"
   ]
  },
  {
   "cell_type": "markdown",
   "id": "6b245640",
   "metadata": {},
   "source": [
    "Görüldüğü gibi Lasso Regression modeli de aynı geni etken gen olarak belirledi."
   ]
  },
  {
   "cell_type": "markdown",
   "id": "f4149c0e",
   "metadata": {},
   "source": [
    "## Tek Değişkenli Method"
   ]
  },
  {
   "cell_type": "code",
   "execution_count": 35,
   "id": "8dcc9c1b",
   "metadata": {},
   "outputs": [
    {
     "name": "stdout",
     "output_type": "stream",
     "text": [
      "         Specs         Score\n",
      "122  GSM627193  3.355177e+06\n",
      "137  GSM627208  3.219662e+06\n",
      "101  GSM627172  3.197475e+06\n",
      "110  GSM627181  3.188886e+06\n",
      "144  GSM627215  3.182162e+06\n",
      "50   GSM627121  3.180883e+06\n"
     ]
    }
   ],
   "source": [
    "BestFeatures = SelectKBest(score_func=chi2, k=10)\n",
    "fit = BestFeatures.fit(X,y)\n",
    "df_scores = pd.DataFrame(fit.scores_)\n",
    "df_columns = pd.DataFrame(X.columns)\n",
    "f_Scores = pd.concat([df_columns,df_scores],axis=1)\n",
    "f_Scores.columns = ['Specs','Score'] \n",
    "print(f_Scores.nlargest(6,'Score')) "
   ]
  },
  {
   "cell_type": "markdown",
   "id": "7128c81b",
   "metadata": {},
   "source": [
    "Görüldüğü gibi tekrardan GSM627193 geni etken gen görünüyor."
   ]
  },
  {
   "cell_type": "markdown",
   "id": "e20b02bd",
   "metadata": {},
   "source": [
    "## Düşük Varyanslı Öznitelikleri Kaldırma Methodu"
   ]
  },
  {
   "cell_type": "code",
   "execution_count": 38,
   "id": "d5fd1414",
   "metadata": {},
   "outputs": [
    {
     "data": {
      "text/plain": [
       "array([[ 140.5225645 ,  173.9045658 ,  121.1870726 ,  175.1307975 ,\n",
       "         165.27996   ],\n",
       "       [ 157.8652693 ,  130.9858355 ,  210.9949998 ,  157.0347461 ,\n",
       "         164.8333093 ],\n",
       "       [ 639.5981696 , 1083.302169  , 2312.359509  ,  632.6246672 ,\n",
       "         680.7012742 ],\n",
       "       ...,\n",
       "       [  31.56369065,   14.83785868,   20.95820129,   17.07990446,\n",
       "          18.78028433],\n",
       "       [  44.74020619,   39.7973648 ,   51.91973087,   35.71469758,\n",
       "          38.86417537],\n",
       "       [  87.99624153,   91.27292116,  109.7887181 ,  116.568809  ,\n",
       "          95.97674629]])"
      ]
     },
     "execution_count": 38,
     "metadata": {},
     "output_type": "execute_result"
    }
   ],
   "source": [
    "from sklearn.feature_selection import VarianceThreshold\n",
    "\n",
    "sel = VarianceThreshold(threshold=(943500))\n",
    "sel.fit_transform(X,y)"
   ]
  },
  {
   "cell_type": "markdown",
   "id": "9b706826",
   "metadata": {},
   "source": [
    "Bu algoritma etken genimizi diğer algoritmalardan farklı buldu. Belli ki modelimiz için uygun öznitelik seçim metodu değil."
   ]
  },
  {
   "cell_type": "markdown",
   "id": "5e03d6a7",
   "metadata": {},
   "source": [
    "## Başka Model Yardımıyla Öznitelik Seçimi"
   ]
  },
  {
   "cell_type": "code",
   "execution_count": 40,
   "id": "fa485297",
   "metadata": {},
   "outputs": [
    {
     "name": "stdout",
     "output_type": "stream",
     "text": [
      "The feature importances of GBDT\n",
      "[0.         0.         0.         0.         0.         0.\n",
      " 0.         0.         0.         0.         0.         0.\n",
      " 0.         0.         0.         0.         0.         0.\n",
      " 0.         0.         0.         0.         0.         0.\n",
      " 0.         0.         0.         0.         0.         0.\n",
      " 0.         0.         0.         0.         0.         0.\n",
      " 0.         0.         0.0718464  0.         0.         0.\n",
      " 0.         0.         0.         0.         0.         0.\n",
      " 0.         0.         0.         0.         0.         0.\n",
      " 0.         0.         0.         0.         0.         0.\n",
      " 0.         0.         0.         0.         0.         0.\n",
      " 0.         0.         0.         0.         0.07184365 0.\n",
      " 0.         0.         0.         0.         0.         0.\n",
      " 0.         0.         0.         0.         0.         0.\n",
      " 0.         0.         0.         0.         0.         0.\n",
      " 0.         0.         0.         0.06583253 0.         0.\n",
      " 0.         0.         0.         0.         0.         0.\n",
      " 0.         0.         0.         0.         0.         0.\n",
      " 0.         0.         0.         0.         0.         0.\n",
      " 0.21777002 0.         0.         0.         0.         0.11018416\n",
      " 0.         0.         0.46252325 0.         0.         0.\n",
      " 0.         0.         0.         0.         0.         0.\n",
      " 0.         0.         0.         0.         0.         0.\n",
      " 0.         0.         0.         0.         0.         0.\n",
      " 0.         0.        ]\n",
      "The shape of original data is (54612, 146)\n",
      "The shape of transformed data is (54612, 6)\n"
     ]
    },
    {
     "name": "stderr",
     "output_type": "stream",
     "text": [
      "C:\\Users\\90551\\anaconda3\\envs\\Pandas\\lib\\site-packages\\sklearn\\base.py:443: UserWarning: X has feature names, but SelectFromModel was fitted without feature names\n",
      "  warnings.warn(\n"
     ]
    }
   ],
   "source": [
    "import sklearn.feature_selection as fs\n",
    "import sklearn.datasets as datasets\n",
    "from sklearn.model_selection import train_test_split\n",
    "from sklearn.ensemble import GradientBoostingClassifier\n",
    "import sklearn.metrics as metrics\n",
    "\n",
    "\n",
    "gb = GradientBoostingClassifier(n_estimators=1)\n",
    "gb.fit(X, y)\n",
    "print(\"The feature importances of GBDT\")\n",
    "print(gb.feature_importances_)\n",
    "\n",
    "model = fs.SelectFromModel(gb, prefit=True)\n",
    "X_trans = model.transform(X)\n",
    "print(\"The shape of original data is {}\".format(X.shape))\n",
    "print(\"The shape of transformed data is {}\".format(X_trans.shape))"
   ]
  },
  {
   "cell_type": "code",
   "execution_count": 41,
   "id": "47445260",
   "metadata": {
    "scrolled": true
   },
   "outputs": [
    {
     "data": {
      "text/plain": [
       "(array([ 38,  70,  93, 114, 119, 122], dtype=int64),)"
      ]
     },
     "execution_count": 41,
     "metadata": {},
     "output_type": "execute_result"
    }
   ],
   "source": [
    "((np.where(gb.feature_importances_)))"
   ]
  },
  {
   "cell_type": "code",
   "execution_count": 42,
   "id": "ede03dbd",
   "metadata": {
    "scrolled": true
   },
   "outputs": [
    {
     "data": {
      "text/plain": [
       "Index(['GSM627109', 'GSM627141', 'GSM627164', 'GSM627185', 'GSM627190',\n",
       "       'GSM627193'],\n",
       "      dtype='object')"
      ]
     },
     "execution_count": 42,
     "metadata": {},
     "output_type": "execute_result"
    }
   ],
   "source": [
    "df.columns[[38,70,93,114,119,122]]"
   ]
  },
  {
   "cell_type": "markdown",
   "id": "ffacc168",
   "metadata": {},
   "source": [
    "Bu metod da bize beklenenden farklı bir gen verdi. Bunun sebebi algoritmamızın datamıza diğer algoritmalar kadar uymamasıdır."
   ]
  },
  {
   "cell_type": "markdown",
   "id": "05e1b671",
   "metadata": {},
   "source": [
    "## Ridge Modeli İle Öznitelik Seçimi"
   ]
  },
  {
   "cell_type": "code",
   "execution_count": 43,
   "id": "10ed4aa0",
   "metadata": {},
   "outputs": [
    {
     "name": "stdout",
     "output_type": "stream",
     "text": [
      "model score on training data: 0.049482457411239134\n",
      "model score on testing data: -0.004428622776193825\n"
     ]
    }
   ],
   "source": [
    "from sklearn.linear_model import RidgeCV\n",
    "\n",
    "model = RidgeCV()\n",
    "from sklearn.pipeline import make_pipeline\n",
    "from sklearn.preprocessing import StandardScaler\n",
    "\n",
    "model = make_pipeline(StandardScaler(), RidgeCV())\n",
    "\n",
    "model.fit(X_train, y_train)\n",
    "\n",
    "print(f'model score on training data: {model.score(X_train, y_train)}')\n",
    "print(f'model score on testing data: {model.score(X_test, y_test)}')"
   ]
  },
  {
   "cell_type": "code",
   "execution_count": 44,
   "id": "8a8f7c70",
   "metadata": {},
   "outputs": [],
   "source": [
    "coefs = pd.DataFrame(\n",
    "   model[1].coef_,\n",
    "   columns=['Coefficients'], index=X_train.columns\n",
    ")\n"
   ]
  },
  {
   "cell_type": "code",
   "execution_count": 113,
   "id": "ebf11c7e",
   "metadata": {},
   "outputs": [
    {
     "data": {
      "image/png": "[encoded data removed]",
      "text/plain": [
       "<Figure size 648x504 with 1 Axes>"
      ]
     },
     "metadata": {
      "needs_background": "light"
     },
     "output_type": "display_data"
    }
   ],
   "source": [
    "coefs=coefs.reindex(coefs.Coefficients.abs().sort_values().index).tail(20)\n",
    "\n",
    "coefs.plot(kind='barh', figsize=(9, 7))\n",
    "plt.title('Ridge model')\n",
    "plt.axvline(x=0, color='.5')\n",
    "plt.subplots_adjust(left=.3)"
   ]
  },
  {
   "cell_type": "markdown",
   "id": "03d81953",
   "metadata": {},
   "source": [
    "\"GSM627187\",\"GSM627085\",\"GSM627104\",\"GSM627124\""
   ]
  },
  {
   "cell_type": "markdown",
   "id": "daa0b794",
   "metadata": {},
   "source": [
    "## Öznitelik Önemi Methodu"
   ]
  },
  {
   "cell_type": "code",
   "execution_count": 45,
   "id": "0efb2b26",
   "metadata": {
    "scrolled": true
   },
   "outputs": [
    {
     "name": "stdout",
     "output_type": "stream",
     "text": [
      "Index(['GSM627085'], dtype='object')\n"
     ]
    }
   ],
   "source": [
    " \n",
    "import matplotlib.pyplot as plt\n",
    "from sklearn.ensemble import ExtraTreesClassifier\n",
    " \n",
    "  \n",
    " \n",
    "# Convert to categorical data by converting data to integers\n",
    " \n",
    " \n",
    " # Building the model\n",
    "extra_tree_forest = ExtraTreesClassifier(n_estimators = 5,\n",
    "                                        criterion ='entropy', max_features = 5)\n",
    "  \n",
    "# Training the model\n",
    "extra_tree_forest.fit(X, y)\n",
    "  \n",
    "# Computing the importance of each feature\n",
    "feature_importance = extra_tree_forest.feature_importances_\n",
    "  \n",
    "# Normalizing the individual importances\n",
    "feature_importance_normalized = np.std([tree.feature_importances_ for tree in \n",
    "                                        extra_tree_forest.estimators_],\n",
    "                                        axis = 0)\n",
    "# Plotting a Bar Graph to compare the models\n",
    "\n",
    "k=(np.where(feature_importance_normalized==max(feature_importance_normalized)))\n",
    "print(df.columns[k])"
   ]
  },
  {
   "cell_type": "markdown",
   "id": "ff4ce0f5",
   "metadata": {},
   "source": [
    "Bu algoritma etken genimizi diğer algoritmalardan farklı buldu. Belli ki bu metod da modelimiz için uygun öznitelik seçim metodu değil."
   ]
  },
  {
   "cell_type": "code",
   "execution_count": null,
   "id": "0ac18b83",
   "metadata": {},
   "outputs": [],
   "source": []
  }
 ],
 "metadata": {
  "kernelspec": {
   "display_name": "Python 3",
   "language": "python",
   "name": "python3"
  },
  "language_info": {
   "codemirror_mode": {
    "name": "ipython",
    "version": 3
   },
   "file_extension": ".py",
   "mimetype": "text/x-python",
   "name": "python",
   "nbconvert_exporter": "python",
   "pygments_lexer": "ipython3",
   "version": "3.8.13"
  }
 },
 "nbformat": 4,
 "nbformat_minor": 5
}
